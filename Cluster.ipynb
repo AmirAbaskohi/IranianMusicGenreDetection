{
 "cells": [
  {
   "cell_type": "code",
   "execution_count": 1,
   "metadata": {},
   "outputs": [],
   "source": [
    "import pandas as pd\n",
    "import matplotlib.pyplot as plt\n",
    "import numpy as np\n",
    "from sklearn import preprocessing\n",
    "from sklearn.model_selection import train_test_split\n",
    "from sklearn.feature_selection import SelectKBest\n",
    "from sklearn.feature_selection import chi2\n",
    "from sklearn.metrics import classification_report\n",
    "from sklearn.metrics import accuracy_score"
   ]
  },
  {
   "cell_type": "code",
   "execution_count": 2,
   "metadata": {},
   "outputs": [],
   "source": [
    "data = pd.read_csv('ML_Project_data.csv')\n",
    "data_model = data.drop(['label'], axis=1)\n",
    "labels = data['label']"
   ]
  },
  {
   "cell_type": "code",
   "execution_count": 3,
   "metadata": {},
   "outputs": [],
   "source": [
    "scaler = preprocessing.MinMaxScaler(feature_range=(0, 1)).fit(data_model)\n",
    "data_model_scaled = scaler.transform(data_model)"
   ]
  },
  {
   "cell_type": "code",
   "execution_count": 4,
   "metadata": {},
   "outputs": [
    {
     "data": {
      "text/plain": [
       "array(['f0', 'f1', 'f2', 'f3', 'f4', 'f5', 'f6', 'f7', 'f8', 'f9', 'f10',\n",
       "       'f11', 'f12', 'f13', 'f14', 'f15', 'f16', 'f17', 'f18', 'f19',\n",
       "       'f20', 'f23', 'f24', 'f25', 'f26', 'f27', 'f28', 'f29', 'f30',\n",
       "       'f31', 'f33', 'f34', 'f37', 'f40', 'f41', 'f42', 'f44', 'f46',\n",
       "       'f50', 'f52', 'f56', 'f60', 'f61', 'f62', 'f63', 'f64', 'f65',\n",
       "       'f66', 'f67', 'f68'], dtype=object)"
      ]
     },
     "execution_count": 4,
     "metadata": {},
     "output_type": "execute_result"
    }
   ],
   "source": [
    "features = list(data_model.columns)\n",
    "selectModel = SelectKBest(chi2, k=50)\n",
    "selectModel.fit(data_model_scaled, labels)\n",
    "selected_features = selectModel.get_feature_names_out(features)\n",
    "selected_features"
   ]
  },
  {
   "cell_type": "code",
   "execution_count": 5,
   "metadata": {},
   "outputs": [
    {
     "data": {
      "text/plain": [
       "(12240, 50)"
      ]
     },
     "execution_count": 5,
     "metadata": {},
     "output_type": "execute_result"
    }
   ],
   "source": [
    "deleted_cols = dict()\n",
    "selected_cols = []\n",
    "for i in range(len(selected_features)):\n",
    "    col = int(selected_features[i][1:])\n",
    "    deleted_cols[col] = 0\n",
    "\n",
    "for i in range(len(data_model.columns)):\n",
    "    if i not in deleted_cols:\n",
    "        selected_cols.append(i)\n",
    "    \n",
    "\n",
    "data_model_scaled = np.delete(data_model_scaled, selected_cols, 1)\n",
    "data_model_scaled.shape"
   ]
  },
  {
   "cell_type": "code",
   "execution_count": 6,
   "metadata": {},
   "outputs": [],
   "source": [
    "trainData, testData, trainLabels, testLabels = train_test_split(data_model_scaled, labels, test_size=0.1,  random_state=42)                                                    \n",
    "# trainData, validData, trainLabels, validLabels = train_test_split(trainData, trainLabels, test_size=0.15,  random_state=42)"
   ]
  },
  {
   "cell_type": "code",
   "execution_count": 7,
   "metadata": {},
   "outputs": [
    {
     "name": "stdout",
     "output_type": "stream",
     "text": [
      "0.27723311546840956\n",
      "0.2867647058823529\n"
     ]
    }
   ],
   "source": [
    "from sklearn.cluster import KMeans\n",
    "\n",
    "k_means = KMeans(n_clusters=5, random_state=42, n_init=10, algorithm='elkan')\n",
    "k_means.fit(trainData, trainLabels)\n",
    "\n",
    "predicted_trainLabels = k_means.predict(trainData)\n",
    "print(accuracy_score(np.array(trainLabels), predicted_trainLabels))\n",
    "\n",
    "predicted_testLabels = k_means.predict(testData)\n",
    "print(accuracy_score(np.array(testLabels), predicted_testLabels))"
   ]
  },
  {
   "cell_type": "code",
   "execution_count": 8,
   "metadata": {},
   "outputs": [
    {
     "data": {
      "text/plain": [
       "0.0"
      ]
     },
     "execution_count": 8,
     "metadata": {},
     "output_type": "execute_result"
    }
   ],
   "source": [
    "from sklearn.cluster import DBSCAN\n",
    "\n",
    "dbscan = DBSCAN(eps=0.3, min_samples=50, metric='manhattan')\n",
    "predicted_testLabels = dbscan.fit_predict(trainData, trainLabels)\n",
    "\n",
    "# accuracy_score(np.array(trainLabels), predicted_testLabels)"
   ]
  },
  {
   "cell_type": "code",
   "execution_count": 9,
   "metadata": {},
   "outputs": [
    {
     "name": "stdout",
     "output_type": "stream",
     "text": [
      "0.2648874364560639\n",
      "0.2769607843137255\n"
     ]
    }
   ],
   "source": [
    "from sklearn.cluster import MiniBatchKMeans\n",
    "\n",
    "MB_k_means = MiniBatchKMeans(n_clusters=5, random_state=42, max_iter=400, batch_size=1024)\n",
    "MB_k_means.fit(trainData, trainLabels)\n",
    "\n",
    "predicted_trainLabels = MB_k_means.predict(trainData)\n",
    "print(accuracy_score(np.array(trainLabels), predicted_trainLabels))\n",
    "\n",
    "predicted_testLabels = MB_k_means.predict(testData)\n",
    "print(accuracy_score(np.array(testLabels), predicted_testLabels))"
   ]
  },
  {
   "cell_type": "code",
   "execution_count": 10,
   "metadata": {},
   "outputs": [
    {
     "name": "stdout",
     "output_type": "stream",
     "text": [
      "0.24355482933914308\n",
      "0.24918300653594772\n"
     ]
    }
   ],
   "source": [
    "from sklearn.cluster import Birch\n",
    "\n",
    "brc = Birch(n_clusters=5, threshold=0.2, branching_factor=10)\n",
    "brc.fit(trainData, trainLabels)\n",
    "\n",
    "predicted_trainLabels = brc.predict(trainData)\n",
    "print(accuracy_score(np.array(trainLabels), predicted_trainLabels))\n",
    "\n",
    "predicted_testLabels = brc.predict(testData)\n",
    "print(accuracy_score(np.array(testLabels), predicted_testLabels))"
   ]
  },
  {
   "cell_type": "code",
   "execution_count": 11,
   "metadata": {},
   "outputs": [
    {
     "name": "stdout",
     "output_type": "stream",
     "text": [
      "0.22785039941902688\n"
     ]
    }
   ],
   "source": [
    "from sklearn.cluster import SpectralCoclustering\n",
    "\n",
    "spc = SpectralCoclustering(n_clusters=2, random_state=42)\n",
    "spc.fit(trainData, trainLabels)\n",
    "\n",
    "predicted_trainLabels = spc.row_labels_ \n",
    "print(accuracy_score(np.array(trainLabels), predicted_trainLabels))\n",
    "\n",
    "# predicted_testLabels = spc.predict(testData)\n",
    "# print(accuracy_score(np.array(testLabels), predicted_testLabels))"
   ]
  },
  {
   "cell_type": "code",
   "execution_count": 12,
   "metadata": {},
   "outputs": [
    {
     "name": "stdout",
     "output_type": "stream",
     "text": [
      "0.0011801016702977488\n"
     ]
    }
   ],
   "source": [
    "from sklearn.cluster import AffinityPropagation\n",
    "\n",
    "aff = AffinityPropagation()\n",
    "aff.fit(trainData, trainLabels)\n",
    "predicted_trainLabels = aff.labels_ \n",
    "print(accuracy_score(np.array(trainLabels), predicted_trainLabels))"
   ]
  },
  {
   "cell_type": "code",
   "execution_count": null,
   "metadata": {},
   "outputs": [],
   "source": []
  }
 ],
 "metadata": {
  "kernelspec": {
   "display_name": "Python 3 (ipykernel)",
   "language": "python",
   "name": "python3"
  },
  "language_info": {
   "codemirror_mode": {
    "name": "ipython",
    "version": 3
   },
   "file_extension": ".py",
   "mimetype": "text/x-python",
   "name": "python",
   "nbconvert_exporter": "python",
   "pygments_lexer": "ipython3",
   "version": "3.10.1"
  }
 },
 "nbformat": 4,
 "nbformat_minor": 4
}
